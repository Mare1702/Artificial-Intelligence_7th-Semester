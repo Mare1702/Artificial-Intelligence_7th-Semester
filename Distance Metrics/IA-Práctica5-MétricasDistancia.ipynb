{
 "cells": [
  {
   "cell_type": "markdown",
   "metadata": {
    "id": "Yx5Na4i9u_gR"
   },
   "source": [
    "## **Práctica 5: Métricas de distancia**\n",
    "\n",
    "Nombre:Recinos Hernández Luis Mario y Alcántara Guerrero Alfredo Guadalupe\n",
    "\n",
    "No. Cuenta:317244331\n",
    "\n",
    "Email: lmrecinoshr@gmail.com y alfredoguadalupe.alcantara@gmail.com"
   ]
  },
  {
   "cell_type": "markdown",
   "metadata": {
    "id": "bwvGIqSpvBaz"
   },
   "source": [
    "**Contexto**\n",
    "\n",
    "Estudios clínicos a partir de imágenes digitalizadas de pacientes con cáncer de mama de Wisconsin (WDBC, Wisconsin Diagnostic Breast Cancer)\n",
    "\n",
    "**Objetivo.** Obtener las mediciones de distancia (Euclidiana, Chebyshev, Manhattan, Minkowski) a partir de una matriz de datos.\n",
    "\n",
    "**Fuente de datos:**\n",
    "\n",
    "https://archive.ics.uci.edu/ml/datasets/Breast+Cancer+Wisconsin+(Diagnostic)"
   ]
  },
  {
   "cell_type": "markdown",
   "metadata": {},
   "source": [
    "- ID number: Identifica al paciente -Discreto-\n",
    "- Diagnosis: Diagnostico (M=maligno, B=benigno) -Booleano-\n",
    "- Radius: Media de las distancias del centro y puntos del perímetro -Continuo-\n",
    "- Texture: Desviación estándar de la escala de grises -Continuo-\n",
    "- Perimeter: Valor del perímetro del cáncer de mama -Continuo-\n",
    "- Area: Valor del área del cáncer de mama -Continuo-\n",
    "- Smoothness: Variación de la longitud del radio -Continuo-\n",
    "- Compactness: Perímetro ^ 2 /Area - 1 -Continuo-\n",
    "- Concavity: Caída o gravedad de las curvas de nivel -Continuo-\n",
    "- Concave points: Número de sectores de contorno cóncavo -Continuo-\n",
    "- Symmetry: Simetría de la imagen -Continuo-\n",
    "- Fractal dimension: “Aproximación de frontera” - 1 -Continuo-"
   ]
  },
  {
   "cell_type": "markdown",
   "metadata": {
    "id": "N-IvVhqXkSx6"
   },
   "source": [
    "#### **1) Importar las bibliotecas necesarias y los datos**"
   ]
  },
  {
   "cell_type": "code",
   "execution_count": 46,
   "metadata": {
    "executionInfo": {
     "elapsed": 919,
     "status": "ok",
     "timestamp": 1647480963408,
     "user": {
      "displayName": "Guillermo Molero-Castillo",
      "photoUrl": "https://lh3.googleusercontent.com/a/default-user=s64",
      "userId": "05385957137518665248"
     },
     "user_tz": 360
    },
    "id": "zdE_1ux9yHou"
   },
   "outputs": [],
   "source": [
    "import pandas as pd               # Para la manipulación y análisis de datos\n",
    "import numpy as np                # Para crear vectores y matrices n dimensionales\n",
    "import matplotlib.pyplot as plt   # Para la generación de gráficas a partir de los datos\n",
    "import seaborn as sns             # Para la visualización de datos basado en matplotlib\n",
    "%matplotlib inline\n",
    "from scipy.spatial.distance import cdist    # Para el cálculo de distancias\n",
    "from scipy.spatial import distance"
   ]
  },
  {
   "cell_type": "code",
   "execution_count": 47,
   "metadata": {
    "colab": {
     "base_uri": "https://localhost:8080/",
     "height": 540
    },
    "executionInfo": {
     "elapsed": 199,
     "status": "ok",
     "timestamp": 1647482163573,
     "user": {
      "displayName": "Guillermo Molero-Castillo",
      "photoUrl": "https://lh3.googleusercontent.com/a/default-user=s64",
      "userId": "05385957137518665248"
     },
     "user_tz": 360
    },
    "id": "0cd7i1KFe-q8",
    "outputId": "c7ecaebd-9c7f-41f8-b47b-e68208df875e"
   },
   "outputs": [
    {
     "data": {
      "text/html": [
       "<div>\n",
       "<style scoped>\n",
       "    .dataframe tbody tr th:only-of-type {\n",
       "        vertical-align: middle;\n",
       "    }\n",
       "\n",
       "    .dataframe tbody tr th {\n",
       "        vertical-align: top;\n",
       "    }\n",
       "\n",
       "    .dataframe thead th {\n",
       "        text-align: right;\n",
       "    }\n",
       "</style>\n",
       "<table border=\"1\" class=\"dataframe\">\n",
       "  <thead>\n",
       "    <tr style=\"text-align: right;\">\n",
       "      <th></th>\n",
       "      <th>IDNumber</th>\n",
       "      <th>Diagnosis</th>\n",
       "      <th>Radius</th>\n",
       "      <th>Texture</th>\n",
       "      <th>Perimeter</th>\n",
       "      <th>Area</th>\n",
       "      <th>Smoothness</th>\n",
       "      <th>Compactness</th>\n",
       "      <th>Concavity</th>\n",
       "      <th>ConcavePoints</th>\n",
       "      <th>Symmetry</th>\n",
       "      <th>FractalDimension</th>\n",
       "    </tr>\n",
       "  </thead>\n",
       "  <tbody>\n",
       "    <tr>\n",
       "      <th>0</th>\n",
       "      <td>P-842302</td>\n",
       "      <td>M</td>\n",
       "      <td>17.99</td>\n",
       "      <td>10.38</td>\n",
       "      <td>122.80</td>\n",
       "      <td>1001.0</td>\n",
       "      <td>0.11840</td>\n",
       "      <td>0.27760</td>\n",
       "      <td>0.30010</td>\n",
       "      <td>0.14710</td>\n",
       "      <td>0.2419</td>\n",
       "      <td>0.07871</td>\n",
       "    </tr>\n",
       "    <tr>\n",
       "      <th>1</th>\n",
       "      <td>P-842517</td>\n",
       "      <td>M</td>\n",
       "      <td>20.57</td>\n",
       "      <td>17.77</td>\n",
       "      <td>132.90</td>\n",
       "      <td>1326.0</td>\n",
       "      <td>0.08474</td>\n",
       "      <td>0.07864</td>\n",
       "      <td>0.08690</td>\n",
       "      <td>0.07017</td>\n",
       "      <td>0.1812</td>\n",
       "      <td>0.05667</td>\n",
       "    </tr>\n",
       "    <tr>\n",
       "      <th>2</th>\n",
       "      <td>P-84300903</td>\n",
       "      <td>M</td>\n",
       "      <td>19.69</td>\n",
       "      <td>21.25</td>\n",
       "      <td>130.00</td>\n",
       "      <td>1203.0</td>\n",
       "      <td>0.10960</td>\n",
       "      <td>0.15990</td>\n",
       "      <td>0.19740</td>\n",
       "      <td>0.12790</td>\n",
       "      <td>0.2069</td>\n",
       "      <td>0.05999</td>\n",
       "    </tr>\n",
       "    <tr>\n",
       "      <th>3</th>\n",
       "      <td>P-84348301</td>\n",
       "      <td>M</td>\n",
       "      <td>11.42</td>\n",
       "      <td>20.38</td>\n",
       "      <td>77.58</td>\n",
       "      <td>386.1</td>\n",
       "      <td>0.14250</td>\n",
       "      <td>0.28390</td>\n",
       "      <td>0.24140</td>\n",
       "      <td>0.10520</td>\n",
       "      <td>0.2597</td>\n",
       "      <td>0.09744</td>\n",
       "    </tr>\n",
       "    <tr>\n",
       "      <th>4</th>\n",
       "      <td>P-84358402</td>\n",
       "      <td>M</td>\n",
       "      <td>20.29</td>\n",
       "      <td>14.34</td>\n",
       "      <td>135.10</td>\n",
       "      <td>1297.0</td>\n",
       "      <td>0.10030</td>\n",
       "      <td>0.13280</td>\n",
       "      <td>0.19800</td>\n",
       "      <td>0.10430</td>\n",
       "      <td>0.1809</td>\n",
       "      <td>0.05883</td>\n",
       "    </tr>\n",
       "    <tr>\n",
       "      <th>...</th>\n",
       "      <td>...</td>\n",
       "      <td>...</td>\n",
       "      <td>...</td>\n",
       "      <td>...</td>\n",
       "      <td>...</td>\n",
       "      <td>...</td>\n",
       "      <td>...</td>\n",
       "      <td>...</td>\n",
       "      <td>...</td>\n",
       "      <td>...</td>\n",
       "      <td>...</td>\n",
       "      <td>...</td>\n",
       "    </tr>\n",
       "    <tr>\n",
       "      <th>564</th>\n",
       "      <td>P-926424</td>\n",
       "      <td>M</td>\n",
       "      <td>21.56</td>\n",
       "      <td>22.39</td>\n",
       "      <td>142.00</td>\n",
       "      <td>1479.0</td>\n",
       "      <td>0.11100</td>\n",
       "      <td>0.11590</td>\n",
       "      <td>0.24390</td>\n",
       "      <td>0.13890</td>\n",
       "      <td>0.1726</td>\n",
       "      <td>0.05623</td>\n",
       "    </tr>\n",
       "    <tr>\n",
       "      <th>565</th>\n",
       "      <td>P-926682</td>\n",
       "      <td>M</td>\n",
       "      <td>20.13</td>\n",
       "      <td>28.25</td>\n",
       "      <td>131.20</td>\n",
       "      <td>1261.0</td>\n",
       "      <td>0.09780</td>\n",
       "      <td>0.10340</td>\n",
       "      <td>0.14400</td>\n",
       "      <td>0.09791</td>\n",
       "      <td>0.1752</td>\n",
       "      <td>0.05533</td>\n",
       "    </tr>\n",
       "    <tr>\n",
       "      <th>566</th>\n",
       "      <td>P-926954</td>\n",
       "      <td>M</td>\n",
       "      <td>16.60</td>\n",
       "      <td>28.08</td>\n",
       "      <td>108.30</td>\n",
       "      <td>858.1</td>\n",
       "      <td>0.08455</td>\n",
       "      <td>0.10230</td>\n",
       "      <td>0.09251</td>\n",
       "      <td>0.05302</td>\n",
       "      <td>0.1590</td>\n",
       "      <td>0.05648</td>\n",
       "    </tr>\n",
       "    <tr>\n",
       "      <th>567</th>\n",
       "      <td>P-927241</td>\n",
       "      <td>M</td>\n",
       "      <td>20.60</td>\n",
       "      <td>29.33</td>\n",
       "      <td>140.10</td>\n",
       "      <td>1265.0</td>\n",
       "      <td>0.11780</td>\n",
       "      <td>0.27700</td>\n",
       "      <td>0.35140</td>\n",
       "      <td>0.15200</td>\n",
       "      <td>0.2397</td>\n",
       "      <td>0.07016</td>\n",
       "    </tr>\n",
       "    <tr>\n",
       "      <th>568</th>\n",
       "      <td>P-92751</td>\n",
       "      <td>B</td>\n",
       "      <td>7.76</td>\n",
       "      <td>24.54</td>\n",
       "      <td>47.92</td>\n",
       "      <td>181.0</td>\n",
       "      <td>0.05263</td>\n",
       "      <td>0.04362</td>\n",
       "      <td>0.00000</td>\n",
       "      <td>0.00000</td>\n",
       "      <td>0.1587</td>\n",
       "      <td>0.05884</td>\n",
       "    </tr>\n",
       "  </tbody>\n",
       "</table>\n",
       "<p>569 rows × 12 columns</p>\n",
       "</div>"
      ],
      "text/plain": [
       "       IDNumber Diagnosis  Radius  Texture  Perimeter    Area  Smoothness  \\\n",
       "0      P-842302         M   17.99    10.38     122.80  1001.0     0.11840   \n",
       "1      P-842517         M   20.57    17.77     132.90  1326.0     0.08474   \n",
       "2    P-84300903         M   19.69    21.25     130.00  1203.0     0.10960   \n",
       "3    P-84348301         M   11.42    20.38      77.58   386.1     0.14250   \n",
       "4    P-84358402         M   20.29    14.34     135.10  1297.0     0.10030   \n",
       "..          ...       ...     ...      ...        ...     ...         ...   \n",
       "564    P-926424         M   21.56    22.39     142.00  1479.0     0.11100   \n",
       "565    P-926682         M   20.13    28.25     131.20  1261.0     0.09780   \n",
       "566    P-926954         M   16.60    28.08     108.30   858.1     0.08455   \n",
       "567    P-927241         M   20.60    29.33     140.10  1265.0     0.11780   \n",
       "568     P-92751         B    7.76    24.54      47.92   181.0     0.05263   \n",
       "\n",
       "     Compactness  Concavity  ConcavePoints  Symmetry  FractalDimension  \n",
       "0        0.27760    0.30010        0.14710    0.2419           0.07871  \n",
       "1        0.07864    0.08690        0.07017    0.1812           0.05667  \n",
       "2        0.15990    0.19740        0.12790    0.2069           0.05999  \n",
       "3        0.28390    0.24140        0.10520    0.2597           0.09744  \n",
       "4        0.13280    0.19800        0.10430    0.1809           0.05883  \n",
       "..           ...        ...            ...       ...               ...  \n",
       "564      0.11590    0.24390        0.13890    0.1726           0.05623  \n",
       "565      0.10340    0.14400        0.09791    0.1752           0.05533  \n",
       "566      0.10230    0.09251        0.05302    0.1590           0.05648  \n",
       "567      0.27700    0.35140        0.15200    0.2397           0.07016  \n",
       "568      0.04362    0.00000        0.00000    0.1587           0.05884  \n",
       "\n",
       "[569 rows x 12 columns]"
      ]
     },
     "execution_count": 47,
     "metadata": {},
     "output_type": "execute_result"
    }
   ],
   "source": [
    "BCancer = pd.read_csv('Datos/WDBCOriginal.csv')\n",
    "BCancer"
   ]
  },
  {
   "cell_type": "code",
   "execution_count": 48,
   "metadata": {
    "colab": {
     "base_uri": "https://localhost:8080/"
    },
    "executionInfo": {
     "elapsed": 163,
     "status": "ok",
     "timestamp": 1647482166121,
     "user": {
      "displayName": "Guillermo Molero-Castillo",
      "photoUrl": "https://lh3.googleusercontent.com/a/default-user=s64",
      "userId": "05385957137518665248"
     },
     "user_tz": 360
    },
    "id": "xKjvWQX_k9bt",
    "outputId": "b2812c34-8976-455f-feba-b0fbde2f5126"
   },
   "outputs": [
    {
     "name": "stdout",
     "output_type": "stream",
     "text": [
      "<class 'pandas.core.frame.DataFrame'>\n",
      "RangeIndex: 569 entries, 0 to 568\n",
      "Data columns (total 12 columns):\n",
      " #   Column            Non-Null Count  Dtype  \n",
      "---  ------            --------------  -----  \n",
      " 0   IDNumber          569 non-null    object \n",
      " 1   Diagnosis         569 non-null    object \n",
      " 2   Radius            569 non-null    float64\n",
      " 3   Texture           569 non-null    float64\n",
      " 4   Perimeter         569 non-null    float64\n",
      " 5   Area              569 non-null    float64\n",
      " 6   Smoothness        569 non-null    float64\n",
      " 7   Compactness       569 non-null    float64\n",
      " 8   Concavity         569 non-null    float64\n",
      " 9   ConcavePoints     569 non-null    float64\n",
      " 10  Symmetry          569 non-null    float64\n",
      " 11  FractalDimension  569 non-null    float64\n",
      "dtypes: float64(10), object(2)\n",
      "memory usage: 53.5+ KB\n"
     ]
    }
   ],
   "source": [
    "BCancer.info()"
   ]
  },
  {
   "cell_type": "code",
   "execution_count": 49,
   "metadata": {
    "colab": {
     "base_uri": "https://localhost:8080/"
    },
    "executionInfo": {
     "elapsed": 169,
     "status": "ok",
     "timestamp": 1647482168783,
     "user": {
      "displayName": "Guillermo Molero-Castillo",
      "photoUrl": "https://lh3.googleusercontent.com/a/default-user=s64",
      "userId": "05385957137518665248"
     },
     "user_tz": 360
    },
    "id": "bQ4fy3grzf0b",
    "outputId": "e2611a25-0af5-4df5-e11f-555e704079ff",
    "scrolled": true
   },
   "outputs": [
    {
     "name": "stdout",
     "output_type": "stream",
     "text": [
      "Diagnosis\n",
      "B    357\n",
      "M    212\n",
      "dtype: int64\n"
     ]
    }
   ],
   "source": [
    "print(BCancer.groupby('Diagnosis').size())"
   ]
  },
  {
   "cell_type": "markdown",
   "metadata": {},
   "source": [
    "**Observaciones en la estnadarización de datos**\n",
    "Como podemos observar en la entrada [BCancer.info()], existen 2 datos con un formato no numérico, diferente a los demás encontrados en la tbala de datos, en aras de poder generar una estandarización uniforme de los mismos, será necesario recortarlos de la base"
   ]
  },
  {
   "cell_type": "markdown",
   "metadata": {},
   "source": [
    "Para el caso del comando en la entrada [from sklearn...], tenemos realizamos una estandarización de los datos, esto es evidente por el uso del framework \"StandardScaler\""
   ]
  },
  {
   "cell_type": "code",
   "execution_count": 70,
   "metadata": {},
   "outputs": [],
   "source": [
    "BCancer2 = BCancer.drop(['IDNumber', 'Diagnosis'], axis=1)\n",
    "from sklearn.preprocessing import StandardScaler, MinMaxScaler  \n",
    "estandarizar = StandardScaler()                               # Se instancia el objeto StandardScaler o MinMaxScaler \n",
    "MEstandarizada = estandarizar.fit_transform(BCancer2)  "
   ]
  },
  {
   "cell_type": "markdown",
   "metadata": {},
   "source": [
    "La normalización de datos se puede dar de dos formas distintas: \n",
    "    StandardScale, para estandarización de los datos\n",
    "    MinMaxScaler, para realizar un escalamiento de los mismos"
   ]
  },
  {
   "cell_type": "code",
   "execution_count": 51,
   "metadata": {},
   "outputs": [
    {
     "name": "stdout",
     "output_type": "stream",
     "text": [
      "<class 'pandas.core.frame.DataFrame'>\n",
      "RangeIndex: 569 entries, 0 to 568\n",
      "Data columns (total 10 columns):\n",
      " #   Column            Non-Null Count  Dtype  \n",
      "---  ------            --------------  -----  \n",
      " 0   Radius            569 non-null    float64\n",
      " 1   Texture           569 non-null    float64\n",
      " 2   Perimeter         569 non-null    float64\n",
      " 3   Area              569 non-null    float64\n",
      " 4   Smoothness        569 non-null    float64\n",
      " 5   Compactness       569 non-null    float64\n",
      " 6   Concavity         569 non-null    float64\n",
      " 7   ConcavePoints     569 non-null    float64\n",
      " 8   Symmetry          569 non-null    float64\n",
      " 9   FractalDimension  569 non-null    float64\n",
      "dtypes: float64(10)\n",
      "memory usage: 44.6 KB\n"
     ]
    }
   ],
   "source": [
    "BCancer2.info()"
   ]
  },
  {
   "cell_type": "markdown",
   "metadata": {
    "id": "N-IvVhqXkSx6"
   },
   "source": [
    "**Se muestra información estandarizada**"
   ]
  },
  {
   "cell_type": "code",
   "execution_count": 52,
   "metadata": {},
   "outputs": [
    {
     "data": {
      "text/html": [
       "<div>\n",
       "<style scoped>\n",
       "    .dataframe tbody tr th:only-of-type {\n",
       "        vertical-align: middle;\n",
       "    }\n",
       "\n",
       "    .dataframe tbody tr th {\n",
       "        vertical-align: top;\n",
       "    }\n",
       "\n",
       "    .dataframe thead th {\n",
       "        text-align: right;\n",
       "    }\n",
       "</style>\n",
       "<table border=\"1\" class=\"dataframe\">\n",
       "  <thead>\n",
       "    <tr style=\"text-align: right;\">\n",
       "      <th></th>\n",
       "      <th>0</th>\n",
       "      <th>1</th>\n",
       "      <th>2</th>\n",
       "      <th>3</th>\n",
       "      <th>4</th>\n",
       "      <th>5</th>\n",
       "      <th>6</th>\n",
       "      <th>7</th>\n",
       "      <th>8</th>\n",
       "      <th>9</th>\n",
       "    </tr>\n",
       "  </thead>\n",
       "  <tbody>\n",
       "    <tr>\n",
       "      <th>0</th>\n",
       "      <td>1.097064</td>\n",
       "      <td>-2.073335</td>\n",
       "      <td>1.269934</td>\n",
       "      <td>0.984375</td>\n",
       "      <td>1.568466</td>\n",
       "      <td>3.283515</td>\n",
       "      <td>2.652874</td>\n",
       "      <td>2.532475</td>\n",
       "      <td>2.217515</td>\n",
       "      <td>2.255747</td>\n",
       "    </tr>\n",
       "    <tr>\n",
       "      <th>1</th>\n",
       "      <td>1.829821</td>\n",
       "      <td>-0.353632</td>\n",
       "      <td>1.685955</td>\n",
       "      <td>1.908708</td>\n",
       "      <td>-0.826962</td>\n",
       "      <td>-0.487072</td>\n",
       "      <td>-0.023846</td>\n",
       "      <td>0.548144</td>\n",
       "      <td>0.001392</td>\n",
       "      <td>-0.868652</td>\n",
       "    </tr>\n",
       "    <tr>\n",
       "      <th>2</th>\n",
       "      <td>1.579888</td>\n",
       "      <td>0.456187</td>\n",
       "      <td>1.566503</td>\n",
       "      <td>1.558884</td>\n",
       "      <td>0.942210</td>\n",
       "      <td>1.052926</td>\n",
       "      <td>1.363478</td>\n",
       "      <td>2.037231</td>\n",
       "      <td>0.939685</td>\n",
       "      <td>-0.398008</td>\n",
       "    </tr>\n",
       "    <tr>\n",
       "      <th>3</th>\n",
       "      <td>-0.768909</td>\n",
       "      <td>0.253732</td>\n",
       "      <td>-0.592687</td>\n",
       "      <td>-0.764464</td>\n",
       "      <td>3.283553</td>\n",
       "      <td>3.402909</td>\n",
       "      <td>1.915897</td>\n",
       "      <td>1.451707</td>\n",
       "      <td>2.867383</td>\n",
       "      <td>4.910919</td>\n",
       "    </tr>\n",
       "    <tr>\n",
       "      <th>4</th>\n",
       "      <td>1.750297</td>\n",
       "      <td>-1.151816</td>\n",
       "      <td>1.776573</td>\n",
       "      <td>1.826229</td>\n",
       "      <td>0.280372</td>\n",
       "      <td>0.539340</td>\n",
       "      <td>1.371011</td>\n",
       "      <td>1.428493</td>\n",
       "      <td>-0.009560</td>\n",
       "      <td>-0.562450</td>\n",
       "    </tr>\n",
       "    <tr>\n",
       "      <th>...</th>\n",
       "      <td>...</td>\n",
       "      <td>...</td>\n",
       "      <td>...</td>\n",
       "      <td>...</td>\n",
       "      <td>...</td>\n",
       "      <td>...</td>\n",
       "      <td>...</td>\n",
       "      <td>...</td>\n",
       "      <td>...</td>\n",
       "      <td>...</td>\n",
       "    </tr>\n",
       "    <tr>\n",
       "      <th>564</th>\n",
       "      <td>2.110995</td>\n",
       "      <td>0.721473</td>\n",
       "      <td>2.060786</td>\n",
       "      <td>2.343856</td>\n",
       "      <td>1.041842</td>\n",
       "      <td>0.219060</td>\n",
       "      <td>1.947285</td>\n",
       "      <td>2.320965</td>\n",
       "      <td>-0.312589</td>\n",
       "      <td>-0.931027</td>\n",
       "    </tr>\n",
       "    <tr>\n",
       "      <th>565</th>\n",
       "      <td>1.704854</td>\n",
       "      <td>2.085134</td>\n",
       "      <td>1.615931</td>\n",
       "      <td>1.723842</td>\n",
       "      <td>0.102458</td>\n",
       "      <td>-0.017833</td>\n",
       "      <td>0.693043</td>\n",
       "      <td>1.263669</td>\n",
       "      <td>-0.217664</td>\n",
       "      <td>-1.058611</td>\n",
       "    </tr>\n",
       "    <tr>\n",
       "      <th>566</th>\n",
       "      <td>0.702284</td>\n",
       "      <td>2.045574</td>\n",
       "      <td>0.672676</td>\n",
       "      <td>0.577953</td>\n",
       "      <td>-0.840484</td>\n",
       "      <td>-0.038680</td>\n",
       "      <td>0.046588</td>\n",
       "      <td>0.105777</td>\n",
       "      <td>-0.809117</td>\n",
       "      <td>-0.895587</td>\n",
       "    </tr>\n",
       "    <tr>\n",
       "      <th>567</th>\n",
       "      <td>1.838341</td>\n",
       "      <td>2.336457</td>\n",
       "      <td>1.982524</td>\n",
       "      <td>1.735218</td>\n",
       "      <td>1.525767</td>\n",
       "      <td>3.272144</td>\n",
       "      <td>3.296944</td>\n",
       "      <td>2.658866</td>\n",
       "      <td>2.137194</td>\n",
       "      <td>1.043695</td>\n",
       "    </tr>\n",
       "    <tr>\n",
       "      <th>568</th>\n",
       "      <td>-1.808401</td>\n",
       "      <td>1.221792</td>\n",
       "      <td>-1.814389</td>\n",
       "      <td>-1.347789</td>\n",
       "      <td>-3.112085</td>\n",
       "      <td>-1.150752</td>\n",
       "      <td>-1.114873</td>\n",
       "      <td>-1.261820</td>\n",
       "      <td>-0.820070</td>\n",
       "      <td>-0.561032</td>\n",
       "    </tr>\n",
       "  </tbody>\n",
       "</table>\n",
       "<p>569 rows × 10 columns</p>\n",
       "</div>"
      ],
      "text/plain": [
       "            0         1         2         3         4         5         6  \\\n",
       "0    1.097064 -2.073335  1.269934  0.984375  1.568466  3.283515  2.652874   \n",
       "1    1.829821 -0.353632  1.685955  1.908708 -0.826962 -0.487072 -0.023846   \n",
       "2    1.579888  0.456187  1.566503  1.558884  0.942210  1.052926  1.363478   \n",
       "3   -0.768909  0.253732 -0.592687 -0.764464  3.283553  3.402909  1.915897   \n",
       "4    1.750297 -1.151816  1.776573  1.826229  0.280372  0.539340  1.371011   \n",
       "..        ...       ...       ...       ...       ...       ...       ...   \n",
       "564  2.110995  0.721473  2.060786  2.343856  1.041842  0.219060  1.947285   \n",
       "565  1.704854  2.085134  1.615931  1.723842  0.102458 -0.017833  0.693043   \n",
       "566  0.702284  2.045574  0.672676  0.577953 -0.840484 -0.038680  0.046588   \n",
       "567  1.838341  2.336457  1.982524  1.735218  1.525767  3.272144  3.296944   \n",
       "568 -1.808401  1.221792 -1.814389 -1.347789 -3.112085 -1.150752 -1.114873   \n",
       "\n",
       "            7         8         9  \n",
       "0    2.532475  2.217515  2.255747  \n",
       "1    0.548144  0.001392 -0.868652  \n",
       "2    2.037231  0.939685 -0.398008  \n",
       "3    1.451707  2.867383  4.910919  \n",
       "4    1.428493 -0.009560 -0.562450  \n",
       "..        ...       ...       ...  \n",
       "564  2.320965 -0.312589 -0.931027  \n",
       "565  1.263669 -0.217664 -1.058611  \n",
       "566  0.105777 -0.809117 -0.895587  \n",
       "567  2.658866  2.137194  1.043695  \n",
       "568 -1.261820 -0.820070 -0.561032  \n",
       "\n",
       "[569 rows x 10 columns]"
      ]
     },
     "execution_count": 52,
     "metadata": {},
     "output_type": "execute_result"
    }
   ],
   "source": [
    "pd.DataFrame(MEstandarizada) "
   ]
  },
  {
   "cell_type": "markdown",
   "metadata": {},
   "source": [
    "**Se muestra información Escalada**\n",
    "\n",
    "Por otro lado, podemos obtener la información esclada mediante el uso del framework \"MinMaxScaler\""
   ]
  },
  {
   "cell_type": "code",
   "execution_count": 53,
   "metadata": {
    "scrolled": true
   },
   "outputs": [
    {
     "data": {
      "text/html": [
       "<div>\n",
       "<style scoped>\n",
       "    .dataframe tbody tr th:only-of-type {\n",
       "        vertical-align: middle;\n",
       "    }\n",
       "\n",
       "    .dataframe tbody tr th {\n",
       "        vertical-align: top;\n",
       "    }\n",
       "\n",
       "    .dataframe thead th {\n",
       "        text-align: right;\n",
       "    }\n",
       "</style>\n",
       "<table border=\"1\" class=\"dataframe\">\n",
       "  <thead>\n",
       "    <tr style=\"text-align: right;\">\n",
       "      <th></th>\n",
       "      <th>0</th>\n",
       "      <th>1</th>\n",
       "      <th>2</th>\n",
       "      <th>3</th>\n",
       "      <th>4</th>\n",
       "      <th>5</th>\n",
       "      <th>6</th>\n",
       "      <th>7</th>\n",
       "      <th>8</th>\n",
       "      <th>9</th>\n",
       "    </tr>\n",
       "  </thead>\n",
       "  <tbody>\n",
       "    <tr>\n",
       "      <th>0</th>\n",
       "      <td>0.521037</td>\n",
       "      <td>0.022658</td>\n",
       "      <td>0.545989</td>\n",
       "      <td>0.363733</td>\n",
       "      <td>0.593753</td>\n",
       "      <td>0.792037</td>\n",
       "      <td>0.703140</td>\n",
       "      <td>0.731113</td>\n",
       "      <td>0.686364</td>\n",
       "      <td>0.605518</td>\n",
       "    </tr>\n",
       "    <tr>\n",
       "      <th>1</th>\n",
       "      <td>0.643144</td>\n",
       "      <td>0.272574</td>\n",
       "      <td>0.615783</td>\n",
       "      <td>0.501591</td>\n",
       "      <td>0.289880</td>\n",
       "      <td>0.181768</td>\n",
       "      <td>0.203608</td>\n",
       "      <td>0.348757</td>\n",
       "      <td>0.379798</td>\n",
       "      <td>0.141323</td>\n",
       "    </tr>\n",
       "    <tr>\n",
       "      <th>2</th>\n",
       "      <td>0.601496</td>\n",
       "      <td>0.390260</td>\n",
       "      <td>0.595743</td>\n",
       "      <td>0.449417</td>\n",
       "      <td>0.514309</td>\n",
       "      <td>0.431017</td>\n",
       "      <td>0.462512</td>\n",
       "      <td>0.635686</td>\n",
       "      <td>0.509596</td>\n",
       "      <td>0.211247</td>\n",
       "    </tr>\n",
       "    <tr>\n",
       "      <th>3</th>\n",
       "      <td>0.210090</td>\n",
       "      <td>0.360839</td>\n",
       "      <td>0.233501</td>\n",
       "      <td>0.102906</td>\n",
       "      <td>0.811321</td>\n",
       "      <td>0.811361</td>\n",
       "      <td>0.565604</td>\n",
       "      <td>0.522863</td>\n",
       "      <td>0.776263</td>\n",
       "      <td>1.000000</td>\n",
       "    </tr>\n",
       "    <tr>\n",
       "      <th>4</th>\n",
       "      <td>0.629893</td>\n",
       "      <td>0.156578</td>\n",
       "      <td>0.630986</td>\n",
       "      <td>0.489290</td>\n",
       "      <td>0.430351</td>\n",
       "      <td>0.347893</td>\n",
       "      <td>0.463918</td>\n",
       "      <td>0.518390</td>\n",
       "      <td>0.378283</td>\n",
       "      <td>0.186816</td>\n",
       "    </tr>\n",
       "    <tr>\n",
       "      <th>...</th>\n",
       "      <td>...</td>\n",
       "      <td>...</td>\n",
       "      <td>...</td>\n",
       "      <td>...</td>\n",
       "      <td>...</td>\n",
       "      <td>...</td>\n",
       "      <td>...</td>\n",
       "      <td>...</td>\n",
       "      <td>...</td>\n",
       "      <td>...</td>\n",
       "    </tr>\n",
       "    <tr>\n",
       "      <th>564</th>\n",
       "      <td>0.690000</td>\n",
       "      <td>0.428813</td>\n",
       "      <td>0.678668</td>\n",
       "      <td>0.566490</td>\n",
       "      <td>0.526948</td>\n",
       "      <td>0.296055</td>\n",
       "      <td>0.571462</td>\n",
       "      <td>0.690358</td>\n",
       "      <td>0.336364</td>\n",
       "      <td>0.132056</td>\n",
       "    </tr>\n",
       "    <tr>\n",
       "      <th>565</th>\n",
       "      <td>0.622320</td>\n",
       "      <td>0.626987</td>\n",
       "      <td>0.604036</td>\n",
       "      <td>0.474019</td>\n",
       "      <td>0.407782</td>\n",
       "      <td>0.257714</td>\n",
       "      <td>0.337395</td>\n",
       "      <td>0.486630</td>\n",
       "      <td>0.349495</td>\n",
       "      <td>0.113100</td>\n",
       "    </tr>\n",
       "    <tr>\n",
       "      <th>566</th>\n",
       "      <td>0.455251</td>\n",
       "      <td>0.621238</td>\n",
       "      <td>0.445788</td>\n",
       "      <td>0.303118</td>\n",
       "      <td>0.288165</td>\n",
       "      <td>0.254340</td>\n",
       "      <td>0.216753</td>\n",
       "      <td>0.263519</td>\n",
       "      <td>0.267677</td>\n",
       "      <td>0.137321</td>\n",
       "    </tr>\n",
       "    <tr>\n",
       "      <th>567</th>\n",
       "      <td>0.644564</td>\n",
       "      <td>0.663510</td>\n",
       "      <td>0.665538</td>\n",
       "      <td>0.475716</td>\n",
       "      <td>0.588336</td>\n",
       "      <td>0.790197</td>\n",
       "      <td>0.823336</td>\n",
       "      <td>0.755467</td>\n",
       "      <td>0.675253</td>\n",
       "      <td>0.425442</td>\n",
       "    </tr>\n",
       "    <tr>\n",
       "      <th>568</th>\n",
       "      <td>0.036869</td>\n",
       "      <td>0.501522</td>\n",
       "      <td>0.028540</td>\n",
       "      <td>0.015907</td>\n",
       "      <td>0.000000</td>\n",
       "      <td>0.074351</td>\n",
       "      <td>0.000000</td>\n",
       "      <td>0.000000</td>\n",
       "      <td>0.266162</td>\n",
       "      <td>0.187026</td>\n",
       "    </tr>\n",
       "  </tbody>\n",
       "</table>\n",
       "<p>569 rows × 10 columns</p>\n",
       "</div>"
      ],
      "text/plain": [
       "            0         1         2         3         4         5         6  \\\n",
       "0    0.521037  0.022658  0.545989  0.363733  0.593753  0.792037  0.703140   \n",
       "1    0.643144  0.272574  0.615783  0.501591  0.289880  0.181768  0.203608   \n",
       "2    0.601496  0.390260  0.595743  0.449417  0.514309  0.431017  0.462512   \n",
       "3    0.210090  0.360839  0.233501  0.102906  0.811321  0.811361  0.565604   \n",
       "4    0.629893  0.156578  0.630986  0.489290  0.430351  0.347893  0.463918   \n",
       "..        ...       ...       ...       ...       ...       ...       ...   \n",
       "564  0.690000  0.428813  0.678668  0.566490  0.526948  0.296055  0.571462   \n",
       "565  0.622320  0.626987  0.604036  0.474019  0.407782  0.257714  0.337395   \n",
       "566  0.455251  0.621238  0.445788  0.303118  0.288165  0.254340  0.216753   \n",
       "567  0.644564  0.663510  0.665538  0.475716  0.588336  0.790197  0.823336   \n",
       "568  0.036869  0.501522  0.028540  0.015907  0.000000  0.074351  0.000000   \n",
       "\n",
       "            7         8         9  \n",
       "0    0.731113  0.686364  0.605518  \n",
       "1    0.348757  0.379798  0.141323  \n",
       "2    0.635686  0.509596  0.211247  \n",
       "3    0.522863  0.776263  1.000000  \n",
       "4    0.518390  0.378283  0.186816  \n",
       "..        ...       ...       ...  \n",
       "564  0.690358  0.336364  0.132056  \n",
       "565  0.486630  0.349495  0.113100  \n",
       "566  0.263519  0.267677  0.137321  \n",
       "567  0.755467  0.675253  0.425442  \n",
       "568  0.000000  0.266162  0.187026  \n",
       "\n",
       "[569 rows x 10 columns]"
      ]
     },
     "execution_count": 53,
     "metadata": {},
     "output_type": "execute_result"
    }
   ],
   "source": [
    "Escalar = MinMaxScaler()                               # Se instancia el objeto StandardScaler o MinMaxScaler \n",
    "MEscalada = Escalar.fit_transform(BCancer2)\n",
    "pd.DataFrame(MEscalada) "
   ]
  },
  {
   "cell_type": "markdown",
   "metadata": {},
   "source": [
    "##**Métricas de Distancia**\n",
    "    **Datos Estandarizados**\n",
    "        **Euclidiana**        "
   ]
  },
  {
   "cell_type": "code",
   "execution_count": 54,
   "metadata": {
    "scrolled": false
   },
   "outputs": [
    {
     "name": "stdout",
     "output_type": "stream",
     "text": [
      "           0         1         2          3         4         5         6    \\\n",
      "0     0.000000  7.088910  4.795874   5.250155  5.214886  4.614290  6.442305   \n",
      "1     7.088910  0.000000  3.405940   9.883573  2.398472  6.128028  1.617756   \n",
      "2     4.795874  3.405940  0.000000   7.692264  2.175050  4.758819  2.631164   \n",
      "3     5.250155  9.883573  7.692264   0.000000  8.740606  4.606783  8.766836   \n",
      "4     5.214886  2.398472  2.175050   8.740606  0.000000  5.212358  2.273124   \n",
      "..         ...       ...       ...        ...       ...       ...       ...   \n",
      "564   6.170932  3.561816  2.047398   9.239833  2.454937  6.230055  3.254004   \n",
      "565   7.330945  2.862911  2.715544   9.436503  3.410951  6.231692  2.306588   \n",
      "566   8.139789  3.299199  4.265876   9.495713  4.465735  5.945304  2.391051   \n",
      "567   4.793285  7.122026  4.087677   6.780535  5.801467  6.476343  6.347867   \n",
      "568  11.026136  7.033761  8.566715  11.206199  8.349087  7.792580  6.435405   \n",
      "\n",
      "          7         8         9    ...       559       560        561  \\\n",
      "0    5.295066  4.531865  4.851761  ...  8.079625  8.046872  11.234240   \n",
      "1    5.377775  6.314865  7.048714  ...  5.152265  4.376485   6.429882   \n",
      "2    4.291535  4.265551  5.165418  ...  5.645135  4.854186   7.977661   \n",
      "3    5.144048  4.157474  3.694479  ...  8.385488  8.546116  11.585901   \n",
      "4    5.045538  5.441371  6.159409  ...  5.628596  5.167677   7.785230   \n",
      "..        ...       ...       ...  ...       ...       ...        ...   \n",
      "564  5.895989  5.937925  6.590918  ...  6.293652  5.524453   8.174023   \n",
      "565  5.283175  5.771127  6.349456  ...  4.978714  3.781965   6.272573   \n",
      "566  4.851328  5.771275  6.063886  ...  3.059706  1.935877   3.970557   \n",
      "567  6.113647  5.174922  5.286288  ...  8.185320  7.535755  10.735847   \n",
      "568  7.003019  8.127417  8.205981  ...  4.077092  4.761096   3.142366   \n",
      "\n",
      "          562        563       564       565       566        567        568  \n",
      "0    5.574927   4.298910  6.170932  7.330945  8.139789   4.793285  11.026136  \n",
      "1    5.869016   5.536259  3.561816  2.862911  3.299199   7.122026   7.033761  \n",
      "2    3.800330   2.645220  2.047398  2.715544  4.265876   4.087677   8.566715  \n",
      "3    5.884749   7.152994  9.239833  9.436503  9.495713   6.780535  11.206199  \n",
      "4    5.309982   4.106281  2.454937  3.410951  4.465735   5.801467   8.349087  \n",
      "..        ...        ...       ...       ...       ...        ...        ...  \n",
      "564  5.061575   3.346253  0.000000  2.502335  4.600006   4.944826   9.273418  \n",
      "565  4.391818   4.350687  2.502335  0.000000  2.496816   5.635351   7.494282  \n",
      "566  4.532844   5.967745  4.600006  2.496816  0.000000   7.107429   5.157942  \n",
      "567  3.788640   1.855940  4.944826  5.635351  7.107429   0.000000  11.211192  \n",
      "568  7.804179  10.251895  9.273418  7.494282  5.157942  11.211192   0.000000  \n",
      "\n",
      "[569 rows x 569 columns]\n"
     ]
    }
   ],
   "source": [
    "DstEuclidiana = cdist(MEstandarizada, MEstandarizada, metric='euclidean')\n",
    "MEuclidiana = pd.DataFrame(DstEuclidiana)\n",
    "print(MEuclidiana)\n",
    "#MEuclidiana Esctandarizada"
   ]
  },
  {
   "cell_type": "markdown",
   "metadata": {},
   "source": [
    "De entre esta tabla de datos ya normalizados, podemos escoger dos objetos para sacar la distancia euclidiana entre ambos"
   ]
  },
  {
   "cell_type": "code",
   "execution_count": 55,
   "metadata": {},
   "outputs": [
    {
     "data": {
      "text/plain": [
       "7.08891001029988"
      ]
     },
     "execution_count": 55,
     "metadata": {},
     "output_type": "execute_result"
    }
   ],
   "source": [
    "Objeto1 = MEstandarizada[0]\n",
    "Objeto2 = MEstandarizada[1]\n",
    "dstEuclidiana = distance.euclidean(Objeto1,Objeto2)\n",
    "dstEuclidiana "
   ]
  },
  {
   "cell_type": "markdown",
   "metadata": {},
   "source": [
    "        **Chevyshev**"
   ]
  },
  {
   "cell_type": "code",
   "execution_count": 56,
   "metadata": {},
   "outputs": [
    {
     "name": "stdout",
     "output_type": "stream",
     "text": [
      "          0         1         2         3         4         5         6    \\\n",
      "0    0.000000  3.770586  2.653755  2.655172  2.818197  2.039179  3.195219   \n",
      "1    3.770586  0.000000  1.769173  5.779572  1.394857  3.064384  0.813413   \n",
      "2    2.653755  1.769173  0.000000  5.308927  1.608003  2.288013  1.390296   \n",
      "3    2.655172  5.779572  5.308927  0.000000  5.473369  3.020914  5.673251   \n",
      "4    2.818197  1.394857  1.608003  5.473369  0.000000  2.452455  1.312466   \n",
      "..        ...       ...       ...       ...       ...       ...       ...   \n",
      "564  3.186774  1.971130  1.252274  5.841946  1.873289  2.849506  1.674029   \n",
      "565  4.158469  2.438766  1.628947  5.969531  3.236950  2.948616  1.924485   \n",
      "566  4.118909  2.399206  1.931453  5.806506  3.197390  3.077905  1.884924   \n",
      "567  4.409792  3.759215  2.219218  3.867224  3.488274  3.171792  3.183849   \n",
      "568  4.680551  3.638222  4.054295  6.395638  3.590962  5.349506  2.988949   \n",
      "\n",
      "          7         8         9    ...       559       560       561  \\\n",
      "0    2.591848  2.662165  3.178774  ...  3.764123  3.902492  4.961632   \n",
      "1    2.529006  3.028801  3.651748  ...  2.623685  2.182789  2.745509   \n",
      "2    2.058361  1.970470  3.181104  ...  2.486292  2.188877  3.683802   \n",
      "3    3.250566  3.338458  2.127824  ...  4.499475  5.065099  6.013476   \n",
      "4    2.222803  2.210437  3.345546  ...  2.541206  2.980973  3.497582   \n",
      "..        ...       ...       ...  ...       ...       ...       ...   \n",
      "564  2.591380  2.728063  3.714123  ...  3.058832  2.501955  3.582784   \n",
      "565  2.718965  2.631073  3.841707  ...  2.448202  1.878814  2.536247   \n",
      "566  2.555940  3.042323  3.678683  ...  1.445632  1.048979  1.935000   \n",
      "567  3.235918  2.166605  2.312006  ...  3.683802  3.851614  4.881311   \n",
      "568  4.716134  5.313924  4.694784  ...  2.845194  3.320580  1.924047   \n",
      "\n",
      "          562       563       564       565       566       567       568  \n",
      "0    4.709984  3.423116  3.186774  4.158469  4.118909  4.409792  4.680551  \n",
      "1    2.990281  2.893921  1.971130  2.438766  2.399206  3.759215  3.638222  \n",
      "2    2.180462  1.506597  1.252274  1.628947  1.931453  2.219218  4.054295  \n",
      "3    3.674430  4.061436  5.841946  5.969531  5.806506  3.867224  6.395638  \n",
      "4    3.788465  2.501597  1.873289  3.236950  3.197390  3.488274  3.590962  \n",
      "..        ...       ...       ...       ...       ...       ...       ...  \n",
      "564  2.167517  2.041074  0.000000  1.363661  2.215187  3.053083  4.153927  \n",
      "565  2.295101  2.277968  1.363661  0.000000  1.157892  3.289977  3.513256  \n",
      "566  2.132077  2.823487  2.215187  1.157892  0.000000  3.310823  2.510685  \n",
      "567  1.558853  1.012009  3.053083  3.289977  3.310823  0.000000  4.637852  \n",
      "568  3.712701  4.075645  4.153927  3.513256  2.510685  4.637852  0.000000  \n",
      "\n",
      "[569 rows x 569 columns]\n"
     ]
    }
   ],
   "source": [
    "DstCheby = cdist(MEstandarizada, MEstandarizada, metric='chebyshev')\n",
    "MCheby = pd.DataFrame(DstCheby)\n",
    "print(MCheby)\n",
    "#MChebyshev Esctandarizada"
   ]
  },
  {
   "cell_type": "markdown",
   "metadata": {},
   "source": [
    "De entre esta tabla de datos ya normalizados, podemos escoger dos objetos para sacar la distancia de chebyshev entre ambos"
   ]
  },
  {
   "cell_type": "code",
   "execution_count": 57,
   "metadata": {},
   "outputs": [
    {
     "data": {
      "text/plain": [
       "3.7705863435627216"
      ]
     },
     "execution_count": 57,
     "metadata": {},
     "output_type": "execute_result"
    }
   ],
   "source": [
    "Objeto1 = MEstandarizada[0]\n",
    "Objeto2 = MEstandarizada[1]\n",
    "dstCheby = distance.chebyshev(Objeto1,Objeto2)\n",
    "dstCheby "
   ]
  },
  {
   "cell_type": "markdown",
   "metadata": {},
   "source": [
    "        **Manhattan**"
   ]
  },
  {
   "cell_type": "code",
   "execution_count": 58,
   "metadata": {},
   "outputs": [
    {
     "name": "stdout",
     "output_type": "stream",
     "text": [
      "           0          1          2          3          4          5    \\\n",
      "0     0.000000  19.960402  12.456494  14.761766  14.386631  13.738927   \n",
      "1    19.960402   0.000000   9.123546  27.647273   5.776913  17.000477   \n",
      "2    12.456494   9.123546   0.000000  20.099684   5.161210  12.916073   \n",
      "3    14.761766  27.647273  20.099684   0.000000  23.669871  11.610203   \n",
      "4    14.386631   5.776913   5.161210  23.669871   0.000000  14.276762   \n",
      "..         ...        ...        ...        ...        ...        ...   \n",
      "564  16.184127   8.861501   5.661976  24.457560   6.257927  18.378786   \n",
      "565  19.597254   6.058711   7.140760  26.069397   5.827566  17.515356   \n",
      "566  22.459463   7.682935  12.710774  26.134687  12.076285  16.702619   \n",
      "567   8.731406  18.760276  10.728167  18.839038  14.760685  19.079466   \n",
      "568  34.148303  18.949363  24.399613  29.665580  23.767960  21.747286   \n",
      "\n",
      "           6          7          8          9    ...        559        560  \\\n",
      "0    16.975639  14.624429  12.885631  13.028898  ...  24.558455  23.463742   \n",
      "1     4.408377  14.887134  18.706094  20.259714  ...  13.923987  12.436606   \n",
      "2     7.448497  11.542140  11.644391  13.611883  ...  16.428669  14.202708   \n",
      "3    23.370330  13.501964   9.611375   9.090972  ...  20.225829  22.830765   \n",
      "4     6.222934  15.290400  15.588125  17.255777  ...  16.123065  13.897103   \n",
      "..         ...        ...        ...        ...  ...        ...        ...   \n",
      "564   8.706076  17.004853  16.841818  17.508463  ...  17.387797  15.161835   \n",
      "565   5.355831  15.794906  16.683978  17.622242  ...  13.298407  10.134595   \n",
      "566   5.853352  12.632723  16.523312  17.043714  ...   8.261011   5.408284   \n",
      "567  18.176664  17.118093  14.742753  15.219373  ...  24.290624  21.697279   \n",
      "568  17.944791  19.595040  22.529417  22.202569  ...  11.042923  12.264384   \n",
      "\n",
      "           561        562        563        564        565        566  \\\n",
      "0    33.837414  13.387501  10.316622  16.184127  19.597254  22.459463   \n",
      "1    18.023235  17.341101  14.650788   8.861501   6.058711   7.682935   \n",
      "2    24.088725  10.634615   6.965660   5.661976   7.140760  12.710774   \n",
      "3    29.354692  15.413501  20.424254  24.457560  26.069397  26.134687   \n",
      "4    23.454236  13.880094  10.816155   6.257927   5.827566  12.076285   \n",
      "..         ...        ...        ...        ...        ...        ...   \n",
      "564  23.981814  14.598407   7.812944   0.000000   6.544993  12.674743   \n",
      "565  17.626670  12.287169  11.640527   6.544993   0.000000   6.653888   \n",
      "566  11.377951  12.244830  17.889246  12.674743   6.653888   0.000000   \n",
      "567  31.056351  10.992026   4.649612  12.223612  13.932328  20.260167   \n",
      "568   7.794719  23.590516  29.834063  25.032692  20.659400  14.005512   \n",
      "\n",
      "           567        568  \n",
      "0     8.731406  34.148303  \n",
      "1    18.760276  18.949363  \n",
      "2    10.728167  24.399613  \n",
      "3    18.839038  29.665580  \n",
      "4    14.760685  23.767960  \n",
      "..         ...        ...  \n",
      "564  12.223612  25.032692  \n",
      "565  13.932328  20.659400  \n",
      "566  20.260167  14.005512  \n",
      "567   0.000000  33.596570  \n",
      "568  33.596570   0.000000  \n",
      "\n",
      "[569 rows x 569 columns]\n"
     ]
    }
   ],
   "source": [
    "DstMan = cdist(MEstandarizada, MEstandarizada, metric='cityblock')\n",
    "MMan = pd.DataFrame(DstMan)\n",
    "print(MMan)\n",
    "#MManhattan Esctandarizada"
   ]
  },
  {
   "cell_type": "markdown",
   "metadata": {},
   "source": [
    "De entre esta tabla de datos ya normalizados, podemos escoger dos objetos para sacar la distancia de chebyshev entre ambos"
   ]
  },
  {
   "cell_type": "code",
   "execution_count": 59,
   "metadata": {},
   "outputs": [
    {
     "data": {
      "text/plain": [
       "19.960401628448203"
      ]
     },
     "execution_count": 59,
     "metadata": {},
     "output_type": "execute_result"
    }
   ],
   "source": [
    "Objeto1 = MEstandarizada[0]\n",
    "Objeto2 = MEstandarizada[1]\n",
    "dstMan = distance.cityblock(Objeto1,Objeto2)\n",
    "dstMan"
   ]
  },
  {
   "cell_type": "markdown",
   "metadata": {},
   "source": [
    "        **Minkowski**"
   ]
  },
  {
   "cell_type": "code",
   "execution_count": 60,
   "metadata": {
    "scrolled": true
   },
   "outputs": [
    {
     "name": "stdout",
     "output_type": "stream",
     "text": [
      "           0         1         2          3         4         5         6    \\\n",
      "0     0.000000  7.088910  4.795874   5.250155  5.214886  4.614290  6.442305   \n",
      "1     7.088910  0.000000  3.405940   9.883573  2.398472  6.128028  1.617756   \n",
      "2     4.795874  3.405940  0.000000   7.692264  2.175050  4.758819  2.631164   \n",
      "3     5.250155  9.883573  7.692264   0.000000  8.740606  4.606783  8.766836   \n",
      "4     5.214886  2.398472  2.175050   8.740606  0.000000  5.212358  2.273124   \n",
      "..         ...       ...       ...        ...       ...       ...       ...   \n",
      "564   6.170932  3.561816  2.047398   9.239833  2.454937  6.230055  3.254004   \n",
      "565   7.330945  2.862911  2.715544   9.436503  3.410951  6.231692  2.306588   \n",
      "566   8.139789  3.299199  4.265876   9.495713  4.465735  5.945304  2.391051   \n",
      "567   4.793285  7.122026  4.087677   6.780535  5.801467  6.476343  6.347867   \n",
      "568  11.026136  7.033761  8.566715  11.206199  8.349087  7.792580  6.435405   \n",
      "\n",
      "          7         8         9    ...       559       560        561  \\\n",
      "0    5.295066  4.531865  4.851761  ...  8.079625  8.046872  11.234240   \n",
      "1    5.377775  6.314865  7.048714  ...  5.152265  4.376485   6.429882   \n",
      "2    4.291535  4.265551  5.165418  ...  5.645135  4.854186   7.977661   \n",
      "3    5.144048  4.157474  3.694479  ...  8.385488  8.546116  11.585901   \n",
      "4    5.045538  5.441371  6.159409  ...  5.628596  5.167677   7.785230   \n",
      "..        ...       ...       ...  ...       ...       ...        ...   \n",
      "564  5.895989  5.937925  6.590918  ...  6.293652  5.524453   8.174023   \n",
      "565  5.283175  5.771127  6.349456  ...  4.978714  3.781965   6.272573   \n",
      "566  4.851328  5.771275  6.063886  ...  3.059706  1.935877   3.970557   \n",
      "567  6.113647  5.174922  5.286288  ...  8.185320  7.535755  10.735847   \n",
      "568  7.003019  8.127417  8.205981  ...  4.077092  4.761096   3.142366   \n",
      "\n",
      "          562        563       564       565       566        567        568  \n",
      "0    5.574927   4.298910  6.170932  7.330945  8.139789   4.793285  11.026136  \n",
      "1    5.869016   5.536259  3.561816  2.862911  3.299199   7.122026   7.033761  \n",
      "2    3.800330   2.645220  2.047398  2.715544  4.265876   4.087677   8.566715  \n",
      "3    5.884749   7.152994  9.239833  9.436503  9.495713   6.780535  11.206199  \n",
      "4    5.309982   4.106281  2.454937  3.410951  4.465735   5.801467   8.349087  \n",
      "..        ...        ...       ...       ...       ...        ...        ...  \n",
      "564  5.061575   3.346253  0.000000  2.502335  4.600006   4.944826   9.273418  \n",
      "565  4.391818   4.350687  2.502335  0.000000  2.496816   5.635351   7.494282  \n",
      "566  4.532844   5.967745  4.600006  2.496816  0.000000   7.107429   5.157942  \n",
      "567  3.788640   1.855940  4.944826  5.635351  7.107429   0.000000  11.211192  \n",
      "568  7.804179  10.251895  9.273418  7.494282  5.157942  11.211192   0.000000  \n",
      "\n",
      "[569 rows x 569 columns]\n"
     ]
    }
   ],
   "source": [
    "DstMin = cdist(MEstandarizada, MEstandarizada, metric='minkowski')\n",
    "MMin = pd.DataFrame(DstMin)\n",
    "print(MMin)\n",
    "#MMinkowski Esctandarizada"
   ]
  },
  {
   "cell_type": "markdown",
   "metadata": {},
   "source": [
    "De entre esta tabla de datos ya normalizados, podemos escoger dos objetos para sacar la distancia de Minkowski entre ambos"
   ]
  },
  {
   "cell_type": "code",
   "execution_count": 61,
   "metadata": {},
   "outputs": [
    {
     "data": {
      "text/plain": [
       "7.08891001029988"
      ]
     },
     "execution_count": 61,
     "metadata": {},
     "output_type": "execute_result"
    }
   ],
   "source": [
    "Objeto1 = MEstandarizada[0]\n",
    "Objeto2 = MEstandarizada[1]\n",
    "dstMin = distance.minkowski(Objeto1,Objeto2)\n",
    "dstMin"
   ]
  },
  {
   "cell_type": "markdown",
   "metadata": {},
   "source": [
    "    **Datos Escalados**"
   ]
  },
  {
   "cell_type": "markdown",
   "metadata": {},
   "source": [
    "Para hacer uso de los datos escalados, bastará con usar los datos de este tipo para alimentar a este y el resto de métricas de distancia\n",
    "\n",
    "        **Euclidiana**"
   ]
  },
  {
   "cell_type": "code",
   "execution_count": 62,
   "metadata": {},
   "outputs": [
    {
     "name": "stdout",
     "output_type": "stream",
     "text": [
      "          0         1         2         3         4         5         6    \\\n",
      "0    0.000000  1.127475  0.736053  0.806489  0.805879  0.770998  1.022398   \n",
      "1    1.127475  0.000000  0.549816  1.491499  0.399938  0.922261  0.248594   \n",
      "2    0.736053  0.549816  0.000000  1.163972  0.322188  0.749446  0.438685   \n",
      "3    0.806489  1.491499  1.163972  0.000000  1.309657  0.700373  1.315442   \n",
      "4    0.805879  0.399938  0.322188  1.309657  0.000000  0.801285  0.374926   \n",
      "..        ...       ...       ...       ...       ...       ...       ...   \n",
      "564  0.931854  0.598344  0.315303  1.403336  0.379303  0.984697  0.558982   \n",
      "565  1.122759  0.430386  0.414326  1.416782  0.504205  0.937851  0.352634   \n",
      "566  1.268293  0.500456  0.681087  1.410269  0.696469  0.862576  0.354974   \n",
      "567  0.707394  1.154441  0.659119  1.056902  0.899827  1.057287  1.038581   \n",
      "568  1.760886  1.128889  1.382179  1.677863  1.346938  1.147713  1.024302   \n",
      "\n",
      "          7         8         9    ...       559       560       561  \\\n",
      "0    0.900983  0.730820  0.764777  ...  1.281990  1.292580  1.780650   \n",
      "1    0.806237  0.951968  1.092831  ...  0.812143  0.677906  1.014403   \n",
      "2    0.710360  0.665267  0.813559  ...  0.913744  0.810475  1.288251   \n",
      "3    0.806598  0.627659  0.528064  ...  1.242249  1.294000  1.745285   \n",
      "4    0.792435  0.820109  0.948008  ...  0.903753  0.837736  1.252078   \n",
      "..        ...       ...       ...  ...       ...       ...       ...   \n",
      "564  0.961878  0.925601  1.038911  ...  1.042108  0.944574  1.356590   \n",
      "565  0.808759  0.867252  0.983203  ...  0.801860  0.630746  1.026241   \n",
      "566  0.692957  0.843794  0.925873  ...  0.477780  0.296278  0.643500   \n",
      "567  1.051255  0.860755  0.866764  ...  1.336487  1.267607  1.753460   \n",
      "568  1.021917  1.218657  1.266627  ...  0.614452  0.708126  0.449814   \n",
      "\n",
      "          562       563       564       565       566       567       568  \n",
      "0    0.838165  0.636349  0.931854  1.122759  1.268293  0.707394  1.760886  \n",
      "1    0.919783  0.921377  0.598344  0.430386  0.500456  1.154441  1.128889  \n",
      "2    0.593069  0.441210  0.315303  0.414326  0.681087  0.659119  1.382179  \n",
      "3    0.854936  1.099936  1.403336  1.416782  1.410269  1.056902  1.677863  \n",
      "4    0.801735  0.647461  0.379303  0.504205  0.696469  0.899827  1.346938  \n",
      "..        ...       ...       ...       ...       ...       ...       ...  \n",
      "564  0.788713  0.518387  0.000000  0.412879  0.766319  0.762958  1.515128  \n",
      "565  0.692247  0.717493  0.412879  0.000000  0.410035  0.913149  1.209346  \n",
      "566  0.719374  0.993957  0.766319  0.410035  0.000000  1.162773  0.824799  \n",
      "567  0.628757  0.278757  0.762958  0.913149  1.162773  0.000000  1.828691  \n",
      "568  1.251547  1.688462  1.515128  1.209346  0.824799  1.828691  0.000000  \n",
      "\n",
      "[569 rows x 569 columns]\n"
     ]
    }
   ],
   "source": [
    "DstEuclidiana = cdist(MEscalada, MEscalada, metric='euclidean')\n",
    "MEuclidiana = pd.DataFrame(DstEuclidiana)\n",
    "print(MEuclidiana)\n",
    "#MEuclidiana Esctandarizada"
   ]
  },
  {
   "cell_type": "markdown",
   "metadata": {},
   "source": [
    "La distancia entre los dos objetos analizados en la práctica será la siguiente:"
   ]
  },
  {
   "cell_type": "code",
   "execution_count": 63,
   "metadata": {},
   "outputs": [
    {
     "data": {
      "text/plain": [
       "1.1274745589868465"
      ]
     },
     "execution_count": 63,
     "metadata": {},
     "output_type": "execute_result"
    }
   ],
   "source": [
    "Objeto1 = MEscalada[0]\n",
    "Objeto2 = MEscalada[1]\n",
    "dstEuclidiana = distance.euclidean(Objeto1,Objeto2)\n",
    "dstEuclidiana"
   ]
  },
  {
   "cell_type": "markdown",
   "metadata": {},
   "source": [
    "        **Chevyshev**"
   ]
  },
  {
   "cell_type": "code",
   "execution_count": 64,
   "metadata": {},
   "outputs": [
    {
     "name": "stdout",
     "output_type": "stream",
     "text": [
      "          0         1         2         3         4         5         6    \\\n",
      "0    0.000000  0.610269  0.394271  0.394482  0.444145  0.333411  0.517146   \n",
      "1    0.610269  0.000000  0.286928  0.858677  0.260309  0.409857  0.121315   \n",
      "2    0.394271  0.286928  0.000000  0.788753  0.233683  0.342657  0.267893   \n",
      "3    0.394482  0.858677  0.788753  0.000000  0.813184  0.448821  0.842881   \n",
      "4    0.444145  0.260309  0.233683  0.813184  0.000000  0.371054  0.199859   \n",
      "..        ...       ...       ...       ...       ...       ...       ...   \n",
      "564  0.495982  0.367854  0.173232  0.867944  0.272235  0.431161  0.322565   \n",
      "565  0.604329  0.354413  0.236726  0.886900  0.470409  0.438079  0.279675   \n",
      "566  0.598580  0.348664  0.372167  0.862679  0.464660  0.418668  0.273926   \n",
      "567  0.640852  0.619728  0.360825  0.574558  0.506933  0.460940  0.559278   \n",
      "568  0.731113  0.606276  0.635686  0.812974  0.602446  0.678613  0.496474   \n",
      "\n",
      "          7         8         9    ...       559       560       561  \\\n",
      "0    0.483693  0.386879  0.461955  ...  0.538311  0.598594  0.742347   \n",
      "1    0.375737  0.384220  0.542544  ...  0.428795  0.317213  0.443466   \n",
      "2    0.338221  0.316626  0.472620  ...  0.431660  0.421769  0.635686   \n",
      "3    0.482940  0.495998  0.316133  ...  0.668492  0.752527  0.893429   \n",
      "4    0.330244  0.345023  0.497051  ...  0.418630  0.433209  0.518390   \n",
      "..        ...       ...       ...  ...       ...       ...       ...   \n",
      "564  0.392893  0.406872  0.551811  ...  0.486332  0.476441  0.690358   \n",
      "565  0.403960  0.390901  0.570767  ...  0.407970  0.287756  0.486630   \n",
      "566  0.379739  0.385935  0.546546  ...  0.240901  0.133069  0.267677   \n",
      "567  0.603889  0.387769  0.387879  ...  0.562793  0.718791  0.823336   \n",
      "568  0.598267  0.674099  0.601129  ...  0.360928  0.421233  0.266162   \n",
      "\n",
      "          562       563       564       565       566       567       568  \n",
      "0    0.684478  0.497464  0.495982  0.604329  0.598580  0.640852  0.731113  \n",
      "1    0.434562  0.540066  0.367854  0.354413  0.348664  0.619728  0.606276  \n",
      "2    0.316875  0.281162  0.173232  0.236726  0.372167  0.360825  0.635686  \n",
      "3    0.545914  0.603412  0.867944  0.886900  0.862679  0.574558  0.812974  \n",
      "4    0.550558  0.363544  0.272235  0.470409  0.464660  0.506933  0.602446  \n",
      "..        ...       ...       ...       ...       ...       ...       ...  \n",
      "564  0.323266  0.330348  0.000000  0.234067  0.426839  0.494141  0.690358  \n",
      "565  0.340986  0.406279  0.234067  0.000000  0.223111  0.532483  0.585451  \n",
      "566  0.380717  0.526921  0.426839  0.223111  0.000000  0.606584  0.418382  \n",
      "567  0.286829  0.163794  0.494141  0.532483  0.606584  0.000000  0.823336  \n",
      "568  0.597470  0.743674  0.690358  0.585451  0.418382  0.823336  0.000000  \n",
      "\n",
      "[569 rows x 569 columns]\n"
     ]
    }
   ],
   "source": [
    "DstCheby = cdist(MEscalada, MEscalada, metric='chebyshev')\n",
    "MCheby = pd.DataFrame(DstCheby)\n",
    "print(MCheby)\n",
    "#MChebyshev Esctandarizada"
   ]
  },
  {
   "cell_type": "markdown",
   "metadata": {},
   "source": [
    "La distnacia entre los dos objetos:"
   ]
  },
  {
   "cell_type": "code",
   "execution_count": 65,
   "metadata": {},
   "outputs": [
    {
     "data": {
      "text/plain": [
       "0.6102693086313723"
      ]
     },
     "execution_count": 65,
     "metadata": {},
     "output_type": "execute_result"
    }
   ],
   "source": [
    "Objeto1 = MEscalada[0]\n",
    "Objeto2 = MEscalada[1]\n",
    "dstCheby = distance.chebyshev(Objeto1,Objeto2)\n",
    "dstCheby"
   ]
  },
  {
   "cell_type": "markdown",
   "metadata": {},
   "source": [
    "        **Manhattan**"
   ]
  },
  {
   "cell_type": "code",
   "execution_count": 66,
   "metadata": {},
   "outputs": [
    {
     "name": "stdout",
     "output_type": "stream",
     "text": [
      "          0         1         2         3         4         5         6    \\\n",
      "0    0.000000  3.146466  1.931058  2.289500  2.239604  2.241746  2.673807   \n",
      "1    3.146466  0.000000  1.450781  4.244564  0.940297  2.599301  0.684542   \n",
      "2    1.931058  1.450781  0.000000  3.078272  0.778723  2.036756  1.202744   \n",
      "3    2.289500  4.244564  3.078272  0.000000  3.569694  1.785270  3.578203   \n",
      "4    2.239604  0.940297  0.778723  3.569694  0.000000  2.205507  1.015325   \n",
      "..        ...       ...       ...       ...       ...       ...       ...   \n",
      "564  2.469236  1.444389  0.890700  3.737509  0.981850  2.902179  1.437488   \n",
      "565  3.033753  0.938590  1.102695  3.955321  0.893736  2.655773  0.845755   \n",
      "566  3.509332  1.193819  2.010068  3.977696  1.908547  2.508964  0.893221   \n",
      "567  1.338906  2.980883  1.706078  2.952045  2.302112  3.086248  2.908822   \n",
      "568  5.412693  3.017154  3.913429  4.565738  3.812329  3.340668  2.856397   \n",
      "\n",
      "          7         8         9    ...       559       560       561  \\\n",
      "0    2.430562  2.080514  2.085005  ...  3.887537  3.738567  5.342989   \n",
      "1    2.249109  2.869009  3.151431  ...  2.180846  1.934958  2.856043   \n",
      "2    1.886721  1.813767  2.162210  ...  2.628795  2.311754  3.843725   \n",
      "3    2.128476  1.472951  1.340681  ...  3.063863  3.513088  4.496034   \n",
      "4    2.402444  2.357898  2.664136  ...  2.576137  2.259095  3.742204   \n",
      "..        ...       ...       ...  ...       ...       ...       ...   \n",
      "564  2.752143  2.640637  2.771021  ...  2.826003  2.508962  3.882550   \n",
      "565  2.441070  2.525909  2.738696  ...  2.122020  1.670531  2.848468   \n",
      "566  1.849220  2.504746  2.637015  ...  1.280378  0.841763  1.833657   \n",
      "567  2.859851  2.416727  2.474099  ...  3.913086  3.546327  5.003303   \n",
      "568  2.991159  3.492872  3.487997  ...  1.726166  1.901162  1.138942   \n",
      "\n",
      "          562       563       564       565       566       567       568  \n",
      "0    2.070808  1.552179  2.469236  3.033753  3.509332  1.338906  5.412693  \n",
      "1    2.716121  2.363968  1.444389  0.938590  1.193819  2.980883  3.017154  \n",
      "2    1.686101  1.140913  0.890700  1.102695  2.010068  1.706078  3.913429  \n",
      "3    2.284766  3.165318  3.737509  3.955321  3.977696  2.952045  4.565738  \n",
      "4    2.140755  1.709799  0.981850  0.893736  1.908547  2.302112  3.812329  \n",
      "..        ...       ...       ...       ...       ...       ...       ...  \n",
      "564  2.281795  1.217406  0.000000  1.060345  2.059424  1.888826  4.062195  \n",
      "565  1.930567  1.876447  1.060345  0.000000  1.074750  2.227882  3.316953  \n",
      "566  1.928456  2.891258  2.059424  1.074750  0.000000  3.254191  2.242203  \n",
      "567  1.788409  0.705101  1.888826  2.227882  3.254191  0.000000  5.396984  \n",
      "568  3.753113  4.831818  4.062195  3.316953  2.242203  5.396984  0.000000  \n",
      "\n",
      "[569 rows x 569 columns]\n"
     ]
    }
   ],
   "source": [
    "DstMan = cdist(MEscalada, MEscalada, metric='cityblock')\n",
    "MMan = pd.DataFrame(DstMan)\n",
    "print(MMan)\n",
    "#MManhattan Esctandarizada"
   ]
  },
  {
   "cell_type": "markdown",
   "metadata": {},
   "source": [
    "La distancia entre los dos objetos:"
   ]
  },
  {
   "cell_type": "code",
   "execution_count": 67,
   "metadata": {},
   "outputs": [
    {
     "data": {
      "text/plain": [
       "3.146465740695154"
      ]
     },
     "execution_count": 67,
     "metadata": {},
     "output_type": "execute_result"
    }
   ],
   "source": [
    "Objeto1 = MEscalada[0]\n",
    "Objeto2 = MEscalada[1]\n",
    "dstMan = distance.cityblock(Objeto1,Objeto2)\n",
    "dstMan"
   ]
  },
  {
   "cell_type": "markdown",
   "metadata": {},
   "source": [
    "        **Minkowski**"
   ]
  },
  {
   "cell_type": "code",
   "execution_count": 68,
   "metadata": {},
   "outputs": [
    {
     "name": "stdout",
     "output_type": "stream",
     "text": [
      "          0         1         2         3         4         5         6    \\\n",
      "0    0.000000  1.127475  0.736053  0.806489  0.805879  0.770998  1.022398   \n",
      "1    1.127475  0.000000  0.549816  1.491499  0.399938  0.922261  0.248594   \n",
      "2    0.736053  0.549816  0.000000  1.163972  0.322188  0.749446  0.438685   \n",
      "3    0.806489  1.491499  1.163972  0.000000  1.309657  0.700373  1.315442   \n",
      "4    0.805879  0.399938  0.322188  1.309657  0.000000  0.801285  0.374926   \n",
      "..        ...       ...       ...       ...       ...       ...       ...   \n",
      "564  0.931854  0.598344  0.315303  1.403336  0.379303  0.984697  0.558982   \n",
      "565  1.122759  0.430386  0.414326  1.416782  0.504205  0.937851  0.352634   \n",
      "566  1.268293  0.500456  0.681087  1.410269  0.696469  0.862576  0.354974   \n",
      "567  0.707394  1.154441  0.659119  1.056902  0.899827  1.057287  1.038581   \n",
      "568  1.760886  1.128889  1.382179  1.677863  1.346938  1.147713  1.024302   \n",
      "\n",
      "          7         8         9    ...       559       560       561  \\\n",
      "0    0.900983  0.730820  0.764777  ...  1.281990  1.292580  1.780650   \n",
      "1    0.806237  0.951968  1.092831  ...  0.812143  0.677906  1.014403   \n",
      "2    0.710360  0.665267  0.813559  ...  0.913744  0.810475  1.288251   \n",
      "3    0.806598  0.627659  0.528064  ...  1.242249  1.294000  1.745285   \n",
      "4    0.792435  0.820109  0.948008  ...  0.903753  0.837736  1.252078   \n",
      "..        ...       ...       ...  ...       ...       ...       ...   \n",
      "564  0.961878  0.925601  1.038911  ...  1.042108  0.944574  1.356590   \n",
      "565  0.808759  0.867252  0.983203  ...  0.801860  0.630746  1.026241   \n",
      "566  0.692957  0.843794  0.925873  ...  0.477780  0.296278  0.643500   \n",
      "567  1.051255  0.860755  0.866764  ...  1.336487  1.267607  1.753460   \n",
      "568  1.021917  1.218657  1.266627  ...  0.614452  0.708126  0.449814   \n",
      "\n",
      "          562       563       564       565       566       567       568  \n",
      "0    0.838165  0.636349  0.931854  1.122759  1.268293  0.707394  1.760886  \n",
      "1    0.919783  0.921377  0.598344  0.430386  0.500456  1.154441  1.128889  \n",
      "2    0.593069  0.441210  0.315303  0.414326  0.681087  0.659119  1.382179  \n",
      "3    0.854936  1.099936  1.403336  1.416782  1.410269  1.056902  1.677863  \n",
      "4    0.801735  0.647461  0.379303  0.504205  0.696469  0.899827  1.346938  \n",
      "..        ...       ...       ...       ...       ...       ...       ...  \n",
      "564  0.788713  0.518387  0.000000  0.412879  0.766319  0.762958  1.515128  \n",
      "565  0.692247  0.717493  0.412879  0.000000  0.410035  0.913149  1.209346  \n",
      "566  0.719374  0.993957  0.766319  0.410035  0.000000  1.162773  0.824799  \n",
      "567  0.628757  0.278757  0.762958  0.913149  1.162773  0.000000  1.828691  \n",
      "568  1.251547  1.688462  1.515128  1.209346  0.824799  1.828691  0.000000  \n",
      "\n",
      "[569 rows x 569 columns]\n"
     ]
    }
   ],
   "source": [
    "DstMin = cdist(MEscalada, MEscalada, metric='minkowski')\n",
    "MMin = pd.DataFrame(DstMin)\n",
    "print(MMin)\n",
    "#MMinkowski Esctandarizada"
   ]
  },
  {
   "cell_type": "markdown",
   "metadata": {},
   "source": [
    "La distancia entre los dos objetos:"
   ]
  },
  {
   "cell_type": "code",
   "execution_count": 69,
   "metadata": {},
   "outputs": [
    {
     "data": {
      "text/plain": [
       "1.1274745589868465"
      ]
     },
     "execution_count": 69,
     "metadata": {},
     "output_type": "execute_result"
    }
   ],
   "source": [
    "Objeto1 = MEscalada[0]\n",
    "Objeto2 = MEscalada[1]\n",
    "dstMin = distance.minkowski(Objeto1,Objeto2)\n",
    "dstMin"
   ]
  }
 ],
 "metadata": {
  "colab": {
   "authorship_tag": "ABX9TyNmW5pFbSP2/nsbzvJPbYl8",
   "name": "IA-Práctica6-ClústerJeráquicoParticional.ipynb",
   "provenance": []
  },
  "kernelspec": {
   "display_name": "Python 3 (ipykernel)",
   "language": "python",
   "name": "python3"
  },
  "language_info": {
   "codemirror_mode": {
    "name": "ipython",
    "version": 3
   },
   "file_extension": ".py",
   "mimetype": "text/x-python",
   "name": "python",
   "nbconvert_exporter": "python",
   "pygments_lexer": "ipython3",
   "version": "3.9.13"
  }
 },
 "nbformat": 4,
 "nbformat_minor": 1
}
